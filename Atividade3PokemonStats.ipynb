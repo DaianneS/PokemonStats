{
  "nbformat": 4,
  "nbformat_minor": 0,
  "metadata": {
    "colab": {
      "provenance": [],
      "authorship_tag": "ABX9TyO3J1ACB3Hszj+cD21WhQnk",
      "include_colab_link": true
    },
    "kernelspec": {
      "name": "python3",
      "display_name": "Python 3"
    },
    "language_info": {
      "name": "python"
    }
  },
  "cells": [
    {
      "cell_type": "markdown",
      "metadata": {
        "id": "view-in-github",
        "colab_type": "text"
      },
      "source": [
        "<a href=\"https://colab.research.google.com/github/DaianneS/PokemonStats/blob/main/Atividade3PokemonStats.ipynb\" target=\"_parent\"><img src=\"https://colab.research.google.com/assets/colab-badge.svg\" alt=\"Open In Colab\"/></a>"
      ]
    },
    {
      "cell_type": "code",
      "execution_count": 5,
      "metadata": {
        "id": "AzTsc_XcvGU9",
        "colab": {
          "base_uri": "https://localhost:8080/"
        },
        "outputId": "8c68c0d4-8f4f-49da-8e16-1135fa074ef1"
      },
      "outputs": [
        {
          "output_type": "stream",
          "name": "stdout",
          "text": [
            "Digite os nomes dos Pokémon separados por vírgula: bnjk\n",
            "Pokémon 'bnjk' não encontrado.\n",
            "Nenhum Pokémon válido foi encontrado.\n"
          ]
        }
      ],
      "source": [
        "import requests\n",
        "\n",
        "def buscarPokemon(nome):\n",
        "    url = f\"https://pokeapi.co/api/v2/pokemon/{nome.lower()}\"\n",
        "    resposta = requests.get(url)\n",
        "\n",
        "    if resposta.status_code == 200:\n",
        "        dados = resposta.json()\n",
        "        return {\n",
        "            \"id\": dados[\"id\"],\n",
        "            \"name\": dados[\"name\"],\n",
        "            \"attack\": dados[\"stats\"][1][\"base_stat\"],\n",
        "            \"defense\": dados[\"stats\"][2][\"base_stat\"],\n",
        "            \"speed\": dados[\"stats\"][5][\"base_stat\"]\n",
        "        }\n",
        "    else:\n",
        "        print(f\"Pokémon '{nome}' não encontrado.\")\n",
        "        return None\n",
        "\n",
        "def ordenarPokemon(pokemonList, **kwargs):\n",
        "    key_func = kwargs.get(\"key\", lambda p: p[\"attack\"])  # Padrao ataque\n",
        "    return sorted(pokemonList, key=key_func, reverse=True)\n",
        "\n",
        "# Entrada\n",
        "nomes = input(\"Digite os nomes dos Pokémon separados por vírgula: \").split(\",\")\n",
        "\n",
        "# Removendo espaços extras e buscando os Pokémon\n",
        "pokemonList = [buscarPokemon(nome.strip()) for nome in nomes]\n",
        "pokemonList = [p for p in pokemonList if p]  # Remove pokémons não encontrados\n",
        "\n",
        "if not pokemonList:\n",
        "    print(\"Nenhum Pokémon válido foi encontrado.\")\n",
        "else:\n",
        "    # Usuário escolhe o que quer\n",
        "    escolha = input(\"Ordenar por ataque, defesa ou velocidade? \").strip().lower()\n",
        "\n",
        "    escolhaDisponivel = {\n",
        "        \"ataque\": lambda p: p[\"attack\"],\n",
        "        \"defesa\": lambda p: p[\"defense\"],\n",
        "        \"velocidade\": lambda p: p[\"speed\"]\n",
        "    }\n",
        "\n",
        "    if escolha in escolhaDisponivel:\n",
        "        ordenados = ordenarPokemon(pokemonList, key=escolhaDisponivel[escolha])\n",
        "\n",
        "        print(f\"\\nPokémon ordenados por {escolha}:\")\n",
        "        for p in ordenados:\n",
        "            print(f\"#{p['id']:03d} {p['name'].capitalize()} - {escolha.capitalize()}: {escolhaDisponivel[escolha](p)}\")\n",
        "    else:\n",
        "        print(\"Critério inválido! Escolha entre ataque, defesa ou velocidade.\")"
      ]
    }
  ]
}